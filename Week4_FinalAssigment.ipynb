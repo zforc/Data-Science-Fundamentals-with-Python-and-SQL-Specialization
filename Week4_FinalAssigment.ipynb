{
 "cells": [
  {
   "cell_type": "markdown",
   "id": "29af0d86-c8e6-4370-a61b-1c36b9a34022",
   "metadata": {
    "tags": []
   },
   "source": [
    "# My Jupyter Notebook on IBM Watson Studio"
   ]
  },
  {
   "cell_type": "markdown",
   "id": "c55d6ab4-9a63-408d-ad0f-44b2ff75ed71",
   "metadata": {},
   "source": [
    "**Zarina Forclaz**  \n",
    "Data Science"
   ]
  },
  {
   "cell_type": "markdown",
   "id": "d15b786e-d48b-4d27-a8ac-9dfbad89fb3e",
   "metadata": {},
   "source": [
    "*I am interested in data science because I want to upskilled.*"
   ]
  },
  {
   "cell_type": "markdown",
   "id": "7f194fe5-51ef-47d3-86ed-c8e7ae7d7ffe",
   "metadata": {
    "tags": []
   },
   "source": [
    "### This code will add two numbers."
   ]
  },
  {
   "cell_type": "code",
   "execution_count": 9,
   "id": "2c6dc39a-e9f2-48b2-b531-d1b581d654fe",
   "metadata": {},
   "outputs": [
    {
     "data": {
      "text/plain": [
       "2"
      ]
     },
     "execution_count": 9,
     "metadata": {},
     "output_type": "execute_result"
    }
   ],
   "source": [
    "1 + 1"
   ]
  },
  {
   "cell_type": "markdown",
   "id": "44e0958a-caf6-4690-b763-7e61e6aa020d",
   "metadata": {},
   "source": [
    "*** \n",
    "1. [The data science motto: If at first, you don’t succeed; call it version 1.0](https://datasciencedojo.com/blog/50-data-science-jokes/)\n",
    "\n",
    "2. [Others!](https://datasciencedojo.com/blog/50-data-science-jokes/)"
   ]
  }
 ],
 "metadata": {
  "kernelspec": {
   "display_name": "Python 3 (ipykernel)",
   "language": "python",
   "name": "python3"
  },
  "language_info": {
   "codemirror_mode": {
    "name": "ipython",
    "version": 3
   },
   "file_extension": ".py",
   "mimetype": "text/x-python",
   "name": "python",
   "nbconvert_exporter": "python",
   "pygments_lexer": "ipython3",
   "version": "3.9.13"
  }
 },
 "nbformat": 4,
 "nbformat_minor": 5
}
